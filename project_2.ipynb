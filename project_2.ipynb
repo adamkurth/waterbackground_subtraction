{
 "cells": [
  {
   "cell_type": "markdown",
   "metadata": {},
   "source": [
    "# Project 2: Crystallography Image Processing\n",
    "## Background Subtraction"
   ]
  },
  {
   "cell_type": "markdown",
   "metadata": {},
   "source": [
    "## Introduction/Context\n",
    "\n",
    "Crystallography, an interdisciplinary field primarily centered on the study of solid-state chemistry and physics, delves into various aspects of matter. The definition is defined as the experimental science of determining the arrangement of atoms in crystalline solids — fundamental both material science and solid-state physics [@1][@2]. \n",
    "\n",
    "Primary interest X-ray crystallography is initiated by physicists however, the impact of this field of research has far reaching impacts on chemistry, biology, minerology, and material science [@3].\n",
    "\n",
    "A significant branch of this field, protein crystallography, and its use of X-rays, focus on unraveling the three-dimensional structure and interactions of proteins. About 85% of known protein structures have been discovered by this technique [@5].\n",
    "\n",
    "Protein crystallography is crucially importatn for investigating the interaction mechanisms between the Sars-Cov2 virus and human cells [@7]. \n",
    "\n",
    "Exploring how various proteins within the human body respond to pharmaceuticals [@8], allowing scientists to see how drugs fit into protein structures, a critical for increasing drug efficiency. \n",
    "\n",
    "Moreover, X-ray crystallography as well as cryogenic electron microscopy have aided our understanding of photosynthesis by revealing the structure of photosynthetic proteins and complexes, and how these function in the energy transfer [@9]. \n",
    "\n",
    "To accurately determine the atomic and molecular structure of crystals of interest, the signal and noise must be differentiated effectively. This simply put is isolating the signal from the diffraction data. This diffraction data being the intensity values, contain various forms of noise and or interference which must be accounted for."
   ]
  },
  {
   "cell_type": "markdown",
   "metadata": {},
   "source": [
    "## Background: \n",
    "\n",
    "- `Intensity (I)`: refers to the intensity of the diffracted X-rays, and for image processing this is simply the displayed pixel values. These pixel values are the diffracted number of photons that are detected by the detector. This detector needs to build for this very purpose, namely sensitive enough to count the number of individual photons. \n",
    "\n",
    "- `Threshold/Peak Finding`: The first step is to find the peaks in an image. In this demonstration, a threshold value to search for peaks above this value will be determined before the analysis. Here, goal is to differntiate the signal of the diffraction peaks from the crystal, and the noise from the intensity values which can be attributed to interference, or water within the protein.\n",
    "\n",
    "- `Indexing`: Assigning each unique three-dimensional index to a reflection within the dataset, using Miller indices (`h,k,l`). There is more to this, but its not the focus of this report. Will use `indexamajig` from CrystFEL [@11]\n",
    "\n",
    "- `HDF5 Images`: When running `pattern_sim` from CrystFEL [@12], this generates simulated a diffraction images, from femtosecond pulses of X-rays from free electron laser [@12]. This function takes in the geometry file type of the detector (`.geom`), the protein cryal (`.pdb`) file, and the intensity file (`.hkl`) as necissary input arguments, and outputs an HDF5 image (`.h5`). Further specifications can be added such as `--no-noise`, which generates $\\textit{only}$ the peak values. This is what is used in the program below, and outputted from the `.stream` file.\n",
    "\n",
    "- `Stream file`: While indexing images with `indexamajig` from CrystFEL [@11], a \"stream file\" will be outputted with extension .stream which obtains information of the found peaks, for given parameters like indexing method, the geometry file, the unit cell parameters (a,b,c, α, β, γ), algorithm used, peak integration method, peak search parameters like the minimum and maximum number of photons, etc. [@11]\n",
    "  \n",
    "- `a, b, c, α, β, γ`: These are unit cell parameters which are simply the lengths (`a,b,c`) and the angles of the unit cell measured in degrees (` α, β, γ`). This is fundamental for determining the system and size of the crystal lattice, as well as the packing ratio of the protein in question. "
   ]
  },
  {
   "cell_type": "markdown",
   "metadata": {},
   "source": [
    "## Problem: Integration\n",
    "The challenge in the process of \"Integration\" during data processing lies in accurately measuring the peak intensity values (`I`) of diffracted radiation in an image, while accounting for the spread of background noise (`σI`) across the image. \n",
    "\n",
    "*The critical task is to precisely estimate the peak values and their exact coordinates, considering the surrounding area of each peak, which comprises the background.* \n",
    "\n",
    "This produces a solution that can effectively distinguish the peak intensity from the background noise. One commonly adopted approach to address this problem is through two-dimensional integration, as implemented in this context. The success of this technique hinges on its ability to accurately isolate and measure the peak intensities amidst varying background noise levels."
   ]
  },
  {
   "cell_type": "markdown",
   "metadata": {},
   "source": [
    "## Dataset Description:\n",
    "\n",
    "\n",
    "\n",
    "\n"
   ]
  },
  {
   "cell_type": "markdown",
   "metadata": {},
   "source": [
    "## Enviornment Setup:\n",
    "\n",
    "\n",
    "\n"
   ]
  },
  {
   "cell_type": "markdown",
   "metadata": {},
   "source": [
    "## Code Implementation: \n",
    "\n",
    "\n",
    "\n"
   ]
  },
  {
   "cell_type": "markdown",
   "metadata": {},
   "source": [
    "\n",
    "## Stream Adaptation\n",
    "\n",
    "\n"
   ]
  },
  {
   "cell_type": "markdown",
   "metadata": {},
   "source": [
    "## Exploratory Data Analysis/Visualization: \n",
    "\n",
    "\n"
   ]
  },
  {
   "cell_type": "markdown",
   "metadata": {},
   "source": [
    "## Final Conclusions:\n",
    "\n"
   ]
  },
  {
   "cell_type": "markdown",
   "metadata": {},
   "source": [
    "### References:\n",
    "\n",
    "[@1] [Wikipedia. (2022). Crystallography.](https://en.wikipedia.org/wiki/Crystallography)\n",
    "\n",
    "[@2] [Wikipedia. (2022). Solid-state physics.](https://en.wikipedia.org/wiki/Solid-state_physics)\n",
    "\n",
    "[@3] [MDPI. (n.d.). Crystallography.](https://www.mdpi.com/journal/crystals/crystallography)\n",
    "\n",
    "[@4] [Keen, D. A. (2014). Crystallography and physics. Physica Scripta, 89(12), 128003.](https://iopscience.iop.org/article/10.1088/0031-8949/89/12/128003)\n",
    "\n",
    "[@5] [MDPI. (2015). Protein Crystallography in Vaccine Research and Development.](https://www.mdpi.com/1422-0067/16/6/13106)\n",
    "\n",
    "[@6] [PubMed. (n.d.). Protein Structure Analysis and Validation with X-Ray Crystallography.](https://pubmed.ncbi.nlm.nih.gov/26428397/)\n",
    "\n",
    "[@7] [NCBI. (n.d.). An Overview of the Crystallized Structures of the SARS-CoV-2.](https://www.ncbi.nlm.nih.gov/pmc/articles/PMC7564894/)\n",
    "\n",
    "[@8] [ScienceDirect. (n.d.). Crystallography and Drug Discovery.](https://www.sciencedirect.com/topics/chemistry/crystallography)\n",
    "\n",
    "[@9] [AIP. (n.d.). Photosynthetic light harvesting and energy conversion.](https://pubs.aip.org/doi/10.1063/1.5139441)\n",
    "\n",
    "[@10] [Harold R. Powell. (2021). A beginner’s guide to X-ray data processing.](https://doi.org/10.1042/bio_2021_124)\n",
    "\n",
    "[@11] \n",
    "\n",
    "https://www.desy.de/~twhite/crystfel/manual-indexamajig.html\n",
    "\n",
    "[@12]\n",
    "https://www.desy.de/~twhite/crystfel/manual-pattern_sim.html"
   ]
  }
 ],
 "metadata": {
  "kernelspec": {
   "display_name": "base",
   "language": "python",
   "name": "python3"
  },
  "language_info": {
   "name": "python",
   "version": "3.11.4"
  }
 },
 "nbformat": 4,
 "nbformat_minor": 2
}
